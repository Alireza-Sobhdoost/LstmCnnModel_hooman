{
 "cells": [
  {
   "cell_type": "code",
   "execution_count": 1,
   "metadata": {},
   "outputs": [
    {
     "data": {
      "text/plain": [
       "'cuda'"
      ]
     },
     "execution_count": 1,
     "metadata": {},
     "output_type": "execute_result"
    }
   ],
   "source": [
    "import torch\n",
    "import torch.nn as nn\n",
    "import torch.optim as optim\n",
    "from torch.utils.data import DataLoader, TensorDataset\n",
    "import pandas as pd\n",
    "import numpy as np\n",
    "from sklearn.metrics import r2_score\n",
    "import matplotlib.pyplot as plt\n",
    "\n",
    "device = \"cuda\" if torch.cuda.is_available() else \"cpu\"\n",
    "device"
   ]
  },
  {
   "cell_type": "code",
   "execution_count": 2,
   "metadata": {},
   "outputs": [],
   "source": [
    "class LSTMCNNModel(nn.Module):\n",
    "    def __init__(self, input_size, lstm_hidden_size, cnn_filters, output_size):\n",
    "        super(LSTMCNNModel, self).__init__()\n",
    "        \n",
    "        # LSTM layer\n",
    "        self.lstm = nn.LSTM(input_size, lstm_hidden_size, batch_first=True)\n",
    "        \n",
    "        # Attention layer (Delete it if you want)\n",
    "        self.attention_layer = nn.Linear(lstm_hidden_size, 1, bias=False)\n",
    "        \n",
    "        # CNN layer\n",
    "        self.conv1d = nn.Conv1d(in_channels=1, out_channels=cnn_filters, kernel_size=2, padding=1)\n",
    "        self.pool = nn.MaxPool1d(kernel_size=2, stride=1)\n",
    "        \n",
    "        # Fully connected layer with adjusted input size\n",
    "        self.fc = nn.Linear(cnn_filters * 64, output_size)  # \n",
    "        \n",
    "            \n",
    "    def attention(self, lstm_output):\n",
    "        attn_scores = self.attention_layer(lstm_output)\n",
    "        attn_weights = torch.softmax(attn_scores, dim=1)\n",
    "        attn_weights = attn_weights.transpose(1, 2)\n",
    "        attended_output = torch.bmm(attn_weights, lstm_output)\n",
    "        return attended_output.squeeze(1)\n",
    "\n",
    "    def forward(self, x):\n",
    "        lstm_out, _ = self.lstm(x)\n",
    "        attn_out = self.attention(lstm_out)\n",
    "        cnn_input = attn_out.unsqueeze(1)\n",
    "        cnn_out = self.pool(self.conv1d(cnn_input))\n",
    "        cnn_out = cnn_out.view(cnn_out.size(0), -1)\n",
    "        \n",
    "        # This output shape is 1 for 1 input ! it predicts the next data point ! \n",
    "        # Change it, if you want your model to learn how to predict next n datapoint !\n",
    "        output = self.fc(cnn_out)\n",
    "        return output\n"
   ]
  },
  {
   "cell_type": "code",
   "execution_count": 5,
   "metadata": {},
   "outputs": [
    {
     "name": "stdout",
     "output_type": "stream",
     "text": [
      "802.0723885297531 595.8718930233364\n"
     ]
    },
    {
     "data": {
      "text/html": [
       "<div>\n",
       "<style scoped>\n",
       "    .dataframe tbody tr th:only-of-type {\n",
       "        vertical-align: middle;\n",
       "    }\n",
       "\n",
       "    .dataframe tbody tr th {\n",
       "        vertical-align: top;\n",
       "    }\n",
       "\n",
       "    .dataframe thead th {\n",
       "        text-align: right;\n",
       "    }\n",
       "</style>\n",
       "<table border=\"1\" class=\"dataframe\">\n",
       "  <thead>\n",
       "    <tr style=\"text-align: right;\">\n",
       "      <th></th>\n",
       "      <th>Name</th>\n",
       "      <th>US dollar</th>\n",
       "    </tr>\n",
       "  </thead>\n",
       "  <tbody>\n",
       "    <tr>\n",
       "      <th>0</th>\n",
       "      <td>1978-12-29 00:00:00</td>\n",
       "      <td>226.00</td>\n",
       "    </tr>\n",
       "    <tr>\n",
       "      <th>1</th>\n",
       "      <td>1979-01-01 00:00:00</td>\n",
       "      <td>226.00</td>\n",
       "    </tr>\n",
       "    <tr>\n",
       "      <th>2</th>\n",
       "      <td>1979-01-02 00:00:00</td>\n",
       "      <td>226.80</td>\n",
       "    </tr>\n",
       "    <tr>\n",
       "      <th>3</th>\n",
       "      <td>1979-01-03 00:00:00</td>\n",
       "      <td>218.60</td>\n",
       "    </tr>\n",
       "    <tr>\n",
       "      <th>4</th>\n",
       "      <td>1979-01-04 00:00:00</td>\n",
       "      <td>223.15</td>\n",
       "    </tr>\n",
       "    <tr>\n",
       "      <th>...</th>\n",
       "      <td>...</td>\n",
       "      <td>...</td>\n",
       "    </tr>\n",
       "    <tr>\n",
       "      <th>12061</th>\n",
       "      <td>03/31/2025</td>\n",
       "      <td>3150.30</td>\n",
       "    </tr>\n",
       "    <tr>\n",
       "      <th>12062</th>\n",
       "      <td>04/01/2025</td>\n",
       "      <td>3146.00</td>\n",
       "    </tr>\n",
       "    <tr>\n",
       "      <th>12063</th>\n",
       "      <td>04/02/2025</td>\n",
       "      <td>3166.20</td>\n",
       "    </tr>\n",
       "    <tr>\n",
       "      <th>12064</th>\n",
       "      <td>04/03/2025</td>\n",
       "      <td>3121.70</td>\n",
       "    </tr>\n",
       "    <tr>\n",
       "      <th>12065</th>\n",
       "      <td>04/04/2025</td>\n",
       "      <td>3035.40</td>\n",
       "    </tr>\n",
       "  </tbody>\n",
       "</table>\n",
       "<p>12066 rows × 2 columns</p>\n",
       "</div>"
      ],
      "text/plain": [
       "                      Name  US dollar\n",
       "0      1978-12-29 00:00:00     226.00\n",
       "1      1979-01-01 00:00:00     226.00\n",
       "2      1979-01-02 00:00:00     226.80\n",
       "3      1979-01-03 00:00:00     218.60\n",
       "4      1979-01-04 00:00:00     223.15\n",
       "...                    ...        ...\n",
       "12061           03/31/2025    3150.30\n",
       "12062           04/01/2025    3146.00\n",
       "12063           04/02/2025    3166.20\n",
       "12064           04/03/2025    3121.70\n",
       "12065           04/04/2025    3035.40\n",
       "\n",
       "[12066 rows x 2 columns]"
      ]
     },
     "execution_count": 5,
     "metadata": {},
     "output_type": "execute_result"
    }
   ],
   "source": [
    "# Data loading cell\n",
    "\n",
    "file_path = './prices.ods'\n",
    "data = pd.read_excel(file_path)\n",
    "\n",
    "\n",
    "# Normalization stuff ! Use them or leave them alone !\n",
    "print(data['US dollar'].mean() ,data['US dollar'].std() )\n",
    "\n",
    "# Normal Z score normalazation\n",
    "global_mean = data['US dollar'].mean()\n",
    "global_std = data['US dollar'].std()\n",
    "\n",
    "# Log sacle Z score normalazation\n",
    "global_log_mean = np.log(global_mean)\n",
    "global_log_std = np.log(global_std)\n",
    "\n",
    "# check for data\n",
    "data\n"
   ]
  },
  {
   "cell_type": "code",
   "execution_count": 6,
   "metadata": {},
   "outputs": [
    {
     "data": {
      "text/plain": [
       "array([ 226. ,  226. ,  226.8, ..., 3166.2, 3121.7, 3035.4])"
      ]
     },
     "execution_count": 6,
     "metadata": {},
     "output_type": "execute_result"
    }
   ],
   "source": [
    "# As you're working with time i recomend you, Use this cell !\n",
    "\n",
    "data['Name'] = pd.to_datetime(data['Name'])  # Ensure Date is datetime\n",
    "data = data.sort_values('Name')  # Sort by date if needed\n",
    "\n",
    "\n",
    "#Extract prices\n",
    "prices = data['US dollar'].values  # Replace 'GoldPrice' with your column name\n",
    "prices \n",
    "\n",
    "# Remember extract youe own data in this part ! it will be needed at next cell !\n",
    "\n"
   ]
  },
  {
   "cell_type": "code",
   "execution_count": 7,
   "metadata": {},
   "outputs": [],
   "source": [
    "window_size = 7  # Define the size of the input window\n",
    "X, y = [], []\n",
    "\n",
    "for i in range(len(prices) - window_size):\n",
    "    cnx = prices[i:i + window_size]\n",
    "    # Z score on windows ! I recommend you test your model with and without it\n",
    "    # cnx = (cnx - cnx.mean()) / cnx.std() \n",
    "    X.append(cnx)\n",
    "    y.append((prices[i + window_size]))  # The next price\n",
    "\n",
    "X = np.array(X)\n",
    "y = np.array(y)\n",
    "\n",
    "# In this cell remember ! my data has only 1 feature !\n",
    "# As you told me your data has more ! consider that on changing this cell !\n"
   ]
  },
  {
   "cell_type": "code",
   "execution_count": 8,
   "metadata": {},
   "outputs": [
    {
     "name": "stdout",
     "output_type": "stream",
     "text": [
      "X_tensor shape: torch.Size([12059, 7, 1])\n",
      "y_tensor shape: torch.Size([12059, 1])\n"
     ]
    }
   ],
   "source": [
    "X_tensor = torch.tensor(X, dtype=torch.float32)\n",
    "y_tensor = torch.tensor(y, dtype=torch.float32).view(-1, 1)  # Reshape y for output layer\n",
    "\n",
    "# Reshape X to fit LSTM input: (batch_size, sequence_length, input_size)\n",
    "# Here, sequence_length corresponds to window_size\n",
    "X_tensor = X_tensor.view(X_tensor.size(0), X_tensor.size(1), 1)  # Add input_size dimension\n",
    "\n",
    "# Check the shapes\n",
    "print(\"X_tensor shape:\", X_tensor.shape)  # Should be (num_samples, window_size, 1)\n",
    "print(\"y_tensor shape:\", y_tensor.shape)  # Should be (num_samples, 1)\n",
    "\n",
    "# You have 2 options !\n",
    "# 1 : make every feature of yours in a new dim which means. if you have n features your X shape would be \n",
    "#   X_tensor shape: torch.Size([12059, 7, n, 1])\n",
    "\n",
    "# 2 : concatanate the last 2 dim of option 1 ! if you have n features your X shape would be \n",
    "#   X_tensor shape: torch.Size([12059, 7, n])"
   ]
  },
  {
   "cell_type": "code",
   "execution_count": 9,
   "metadata": {},
   "outputs": [],
   "source": [
    "# Hyperparameters\n",
    "input_size = 1          # 1 feature (gold price) for my model\n",
    "lstm_hidden_size = 64   # Hidden size for LSTM\n",
    "cnn_filters = 128       # Number of filters in the CNN layer\n",
    "window_size = 7         # Window size\n",
    "output_size = 1         # Predicting 1 value (next day's price) for my model\n",
    "batch_size = 32         \n",
    "lr = 3e-4\n",
    "weight_decay = 0        # If you had overfit problems use it !\n",
    "\n",
    "\n",
    "# Model, loss function, optimizer\n",
    "model = LSTMCNNModel(input_size, lstm_hidden_size, cnn_filters, window_size, output_size)\n",
    "criterion = nn.MSELoss()\n",
    "optimizer = optim.Adam(model.parameters(), lr=lr, weight_decay=weight_decay)\n",
    "\n",
    "model.to(device)\n",
    "# Training loop\n",
    "num_epochs = 200\n",
    "\n",
    "\n",
    "dataset = TensorDataset(X_tensor, y_tensor)\n",
    "train_size = int(0.95 * len(dataset))  # 95% for training\n",
    "val_size = int(0.02 * len(dataset)) # 2% for validation\n",
    "test_size = len(dataset) - train_size - val_size  # Remaining 5% for testing\n",
    "\n",
    "# Deterministic slicing\n",
    "X_train = X_tensor[:train_size]\n",
    "y_train = y_tensor[:train_size]\n",
    "\n",
    "X_val = X_tensor[train_size:train_size + val_size]\n",
    "y_val = y_tensor[train_size:train_size + val_size]\n",
    "\n",
    "X_test = X_tensor[train_size + val_size:]\n",
    "y_test = y_tensor[train_size + val_size:]\n",
    "\n",
    "# Creating separate datasets\n",
    "train_dataset = TensorDataset(X_train, y_train)\n",
    "val_dataset = TensorDataset(X_val, y_val)\n",
    "test_dataset = TensorDataset(X_test, y_test)\n",
    "\n",
    "train_loader = DataLoader(train_dataset, batch_size=batch_size, shuffle=True)  # Adjust batch size as needed\n",
    "val_loader = DataLoader(val_dataset, batch_size=batch_size, shuffle=False)\n",
    "test_loader = DataLoader(test_dataset, batch_size=batch_size, shuffle=False)\n"
   ]
  },
  {
   "cell_type": "code",
   "execution_count": null,
   "metadata": {},
   "outputs": [],
   "source": [
    "# There are two poins to consider !    \n",
    "\n",
    "# 1:\n",
    "    # As you saw i did not normalize my Y, that was another trick of mine in this project\n",
    "    # You may have to change this logic !\n",
    "    \n",
    "# 2 :\n",
    "    # Be aware of this point you might have to cahnge some shape stuff in this cell\n",
    "    # Based in your data conf in previous cells !\n",
    "\n",
    "\n",
    "for epoch in range(num_epochs):\n",
    "    model.train()\n",
    "    epoch_loss = 0\n",
    "    \n",
    "    for x_batch, y_batch in train_loader:\n",
    "        x_batch, y_batch = x_batch.to(device), y_batch.to(device)\n",
    "\n",
    "        # This was my idea on goldprice, I suggest you try Z score first ! \n",
    "        x_batch = torch.log(x_batch + 1e-8)  # must be all positive\n",
    "\n",
    "        # x_batch = (x_batch - global_log_mean) / (global_log_std + 1e-8) # batch log z score\n",
    "        # x_batch = (x_batch - global_mean) / (global_std + 1e-8) # batch normal z score\n",
    "\n",
    "\n",
    "        optimizer.zero_grad()\n",
    "\n",
    "        # Forward pass\n",
    "        predictions = model(x_batch)\n",
    "        loss = criterion(predictions, y_batch)\n",
    "        \n",
    "        # Backward pass and optimization\n",
    "        loss.backward()\n",
    "        optimizer.step()\n",
    "        \n",
    "        epoch_loss += loss.item()\n",
    "\n",
    "    # eval your model and check for over/under fit\n",
    "    \n",
    "    model.eval()\n",
    "    val_loss = 0\n",
    "    with torch.no_grad():\n",
    "        for x_batch, y_batch in val_loader:\n",
    "            x_batch, y_batch = x_batch.to(device), y_batch.to(device)\n",
    "\n",
    "            # This was my idea on goldprice, I suggest you try Z score first ! \n",
    "            x_batch = torch.log(x_batch + 1e-8)  # must be all positive\n",
    "\n",
    "            # x_batch = (x_batch - global_log_mean) / (global_log_std + 1e-8) # batch log z score\n",
    "            # x_batch = (x_batch - global_mean) / (global_std + 1e-8) # batch normal z score\n",
    "\n",
    "            output = model(x_batch)\n",
    "            val_loss += criterion(output, y_batch).item()\n",
    "    \n",
    "    val_loss /= len(val_loader)\n",
    "    print(f'Epoch {epoch+1}/{num_epochs}, Training Loss: {loss.item()}, Validation Loss: {val_loss}')\n",
    "    "
   ]
  },
  {
   "cell_type": "code",
   "execution_count": 11,
   "metadata": {},
   "outputs": [],
   "source": [
    "# This metrics were usefull for me ! may guid you well !\n",
    "\n",
    "def calculate_metrics(predictions, targets):\n",
    "    # RMSE\n",
    "    rmse = torch.sqrt(torch.mean((predictions - targets) ** 2)).item()\n",
    "    \n",
    "    # RMAE\n",
    "    rmae = torch.sqrt(torch.mean(torch.abs(predictions - targets))).item()\n",
    "    \n",
    "    # MAPE\n",
    "    mape = torch.mean(torch.abs((predictions - targets) / targets)) * 100  # In percentage\n",
    "    mape = mape.item()\n",
    "    \n",
    "    return rmse, rmae, mape\n"
   ]
  },
  {
   "cell_type": "code",
   "execution_count": 12,
   "metadata": {},
   "outputs": [
    {
     "name": "stdout",
     "output_type": "stream",
     "text": [
      "R^2 Score: 0.9839\n",
      "TEST RMSE: 39.7411\n",
      "TEST RMAE: 5.5616\n",
      "TEST MAPE: 1.24%\n"
     ]
    }
   ],
   "source": [
    "\n",
    "# Validation loop for test set\n",
    "\n",
    "model.eval()  # Set model to evaluation mode\n",
    "predictions_list, targets_list = [], []\n",
    "\n",
    "with torch.no_grad():  # Disable gradient calculation for validation\n",
    "    for x_batch, y_batch in test_loader:\n",
    "        x_batch, y_batch = x_batch.to(device), y_batch.to(device)  # Move to device\n",
    "\n",
    "        # Watch for normalazation method :)\n",
    "        x_batch = torch.log(x_batch + 1e-8)  # must be all positive\n",
    "\n",
    "        # x_batch = (x_batch - global_log_mean) / (global_log_std + 1e-8) # batch log z score\n",
    "        # x_batch = (x_batch - global_mean) / (global_std + 1e-8) # batch normal z score\n",
    "        \n",
    "        # Make predictions\n",
    "        predictions = model(x_batch)\n",
    "        predictions = torch.exp(predictions)\n",
    "        \n",
    "        # Store predictions and targets for metrics calculation\n",
    "        predictions_list.append(predictions)\n",
    "        targets_list.append(y_batch)\n",
    "\n",
    "# Concatenate all predictions and targets\n",
    "all_predictions = torch.cat(predictions_list, dim=0)\n",
    "all_targets = torch.cat(targets_list, dim=0)\n",
    "\n",
    "\n",
    "all_targets = all_targets.to('cpu')\n",
    "all_predictions = all_predictions.to('cpu')\n",
    "\n",
    "# This part is There for a reason. You might normalize the Y to ! so model learns the normalized Y!\n",
    "# You have to take it back if you used log use : torch.exp or np.exp\n",
    "# But if you used z-score use a code similar to beloow codes ! \n",
    "\n",
    "# all_targets = (all_targets * std_price) + mean_price\n",
    "# all_predictions = (all_predictions * std_price) + mean_price\n",
    "\n",
    "\n",
    "# Calculate metrics\n",
    "rmse, rmae, mape = calculate_metrics(all_predictions, all_targets)\n",
    "\n",
    "# Calculate R^2 score\n",
    "r2 = r2_score(all_targets.to('cpu'), all_predictions.to('cpu'))\n",
    "\n",
    "print(f\"R^2 Score: {r2:.4f}\")\n",
    "print(f\"TEST RMSE: {rmse:.4f}\")\n",
    "print(f\"TEST RMAE: {rmae:.4f}\")\n",
    "print(f\"TEST MAPE: {mape:.2f}%\")\n"
   ]
  },
  {
   "cell_type": "code",
   "execution_count": 13,
   "metadata": {},
   "outputs": [
    {
     "data": {
      "image/png": "[encoded data removed]",
      "text/plain": [
       "<Figure size 1000x600 with 1 Axes>"
      ]
     },
     "metadata": {},
     "output_type": "display_data"
    }
   ],
   "source": [
    "# This ell is for you to visualize your test results !\n",
    "\n",
    "all_targets = all_targets.to('cpu')\n",
    "all_predictions = all_predictions.to('cpu')\n",
    "\n",
    "\n",
    "# Create a scatter plot\n",
    "plt.figure(figsize=(10, 6))\n",
    "plt.scatter(range(len(all_targets)), all_targets, color='blue', label='Actual Values', marker='o')\n",
    "plt.scatter(range(len(all_predictions)), all_predictions, color='red', label='Predicted Values', marker='x')\n",
    "# plt.plot(all_targets.to('cpu'), color='blue', linestyle='--', alpha=0.5)  # Optional: Connect the actual values with a line\n",
    "# plt.plot(all_predictions.to('cpu'), color='red', linestyle='--', alpha=0.5)  # Optional: Connect the predicted values with a line\n",
    "\n",
    "# Add titles and labels\n",
    "plt.title('True vs Predicted Values')\n",
    "plt.xlabel('Sample Index')\n",
    "plt.ylabel('Gold Price')\n",
    "plt.legend()\n",
    "plt.grid(True)\n",
    "plt.show()"
   ]
  },
  {
   "cell_type": "code",
   "execution_count": 17,
   "metadata": {},
   "outputs": [],
   "source": [
    "# Dont forget to save your model !\n",
    "\n",
    "# torch.save(model.state_dict(), 'model.pth')"
   ]
  },
  {
   "cell_type": "code",
   "execution_count": null,
   "metadata": {},
   "outputs": [
    {
     "data": {
      "text/plain": [
       "<All keys matched successfully>"
      ]
     },
     "execution_count": 10,
     "metadata": {},
     "output_type": "execute_result"
    }
   ],
   "source": [
    "# Load if if you want :)\n",
    "\n",
    "# model.load_state_dict(torch.load('model.pth', weights_only=True))"
   ]
  },
  {
   "cell_type": "code",
   "execution_count": null,
   "metadata": {},
   "outputs": [],
   "source": [
    "# Dear Hooman may this code guid you well but if you need any help call me !\n",
    "\n",
    "# The ideas you may want to be implemented in this code\n",
    "#   early stopping\n",
    "#   paralell h_param tuning\n",
    "#   etc ..."
   ]
  }
 ],
 "metadata": {
  "kernelspec": {
   "display_name": "AI_club",
   "language": "python",
   "name": "python3"
  },
  "language_info": {
   "codemirror_mode": {
    "name": "ipython",
    "version": 3
   },
   "file_extension": ".py",
   "mimetype": "text/x-python",
   "name": "python",
   "nbconvert_exporter": "python",
   "pygments_lexer": "ipython3",
   "version": "3.12.3"
  }
 },
 "nbformat": 4,
 "nbformat_minor": 2
}
